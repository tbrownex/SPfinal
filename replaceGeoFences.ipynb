{
 "cells": [
  {
   "cell_type": "code",
   "execution_count": 1,
   "id": "b8a7bae4",
   "metadata": {},
   "outputs": [],
   "source": [
    "import json\n",
    "import pandas as pd\n",
    "import os\n",
    "\n",
    "from getOrganization import getOrg\n",
    "from utils import putRequest\n",
    "from config import getBaseURL"
   ]
  },
  {
   "cell_type": "code",
   "execution_count": 2,
   "id": "7ec23d71",
   "metadata": {},
   "outputs": [],
   "source": [
    "loc = '/home/tbrownex/data/SpendPoint/triggersNov27/'"
   ]
  },
  {
   "cell_type": "code",
   "execution_count": 3,
   "id": "ea92fdb3",
   "metadata": {},
   "outputs": [],
   "source": [
    "def getJSONfilenames():\n",
    "    for a, b, c in os.walk(loc):\n",
    "        pass\n",
    "    return c"
   ]
  },
  {
   "cell_type": "code",
   "execution_count": 4,
   "id": "3762037f",
   "metadata": {},
   "outputs": [],
   "source": [
    "def getJson(trigger):\n",
    "    with open(loc+trigger, 'r') as myfile:\n",
    "        data=myfile.read()\n",
    "    return data"
   ]
  },
  {
   "cell_type": "code",
   "execution_count": 5,
   "id": "ac48f90f",
   "metadata": {},
   "outputs": [],
   "source": [
    "def formatPayload(obj):\n",
    "    l=[]\n",
    "    for f in obj['features']:\n",
    "        d={}\n",
    "        d['name']=f['properties']['name']\n",
    "        ba={}\n",
    "        ba['type']='Polygon'\n",
    "        ba['coordinates']=f['geometry']['coordinates']\n",
    "        d['bid_area']=ba\n",
    "        l.append(d)\n",
    "\n",
    "    gf = {}\n",
    "    gf['geo_fences']=l\n",
    "    gf[\"geo_fencing_update_type\"]= \"Target\"\n",
    "    return gf"
   ]
  },
  {
   "cell_type": "code",
   "execution_count": 6,
   "id": "86066369",
   "metadata": {},
   "outputs": [
    {
     "name": "stdout",
     "output_type": "stream",
     "text": [
      "You are running this for:\n",
      "\n",
      "Subway Phase II\n"
     ]
    }
   ],
   "source": [
    "orgID = 394870\n",
    "print(\"You are running this for:\\n\")\n",
    "_=getOrg(orgID)"
   ]
  },
  {
   "cell_type": "code",
   "execution_count": 21,
   "id": "3e80bf77",
   "metadata": {},
   "outputs": [],
   "source": [
    "df = pd.read_csv('/home/tbrownex/data/SpendPoint/updateTriggersNov27.csv')"
   ]
  },
  {
   "cell_type": "code",
   "execution_count": 8,
   "id": "c1f7b178",
   "metadata": {},
   "outputs": [],
   "source": [
    "fileNames = getJSONfilenames()\n",
    "missing = set(df.trigger)-set(fileNames)\n",
    "\n",
    "df = df[~df['trigger'].isin(missing)]"
   ]
  },
  {
   "cell_type": "code",
   "execution_count": 24,
   "id": "291e8240",
   "metadata": {},
   "outputs": [
    {
     "name": "stdout",
     "output_type": "stream",
     "text": [
      "3177454\n",
      "502\n",
      "3183440\n",
      "502\n",
      "3183441\n",
      "502\n",
      "3183442\n",
      "502\n",
      "3183443\n",
      "502\n",
      "3183444\n",
      "502\n"
     ]
    }
   ],
   "source": [
    "restart = False\n",
    "for _, j in df.iterrows():\n",
    "    campaignID, trigger = j\n",
    "    print(campaignID)\n",
    "    data = getJson(trigger)\n",
    "    obj = json.loads(data)\n",
    "    gf = formatPayload(obj)\n",
    "    # Replace the current geo Fences with \"payload\"\n",
    "    payload = json.dumps(gf)\n",
    "    base = getBaseURL()\n",
    "    url = base+'organizations/'+str(orgID)+'/campaigns/'+str(campaignID)+'/geo_fences'\n",
    "    resp = putRequest(url, payload)"
   ]
  },
  {
   "cell_type": "code",
   "execution_count": null,
   "id": "7524b797",
   "metadata": {},
   "outputs": [],
   "source": []
  }
 ],
 "metadata": {
  "kernelspec": {
   "display_name": "Python 3 (ipykernel)",
   "language": "python",
   "name": "python3"
  },
  "language_info": {
   "codemirror_mode": {
    "name": "ipython",
    "version": 3
   },
   "file_extension": ".py",
   "mimetype": "text/x-python",
   "name": "python",
   "nbconvert_exporter": "python",
   "pygments_lexer": "ipython3",
   "version": "3.9.15"
  }
 },
 "nbformat": 4,
 "nbformat_minor": 5
}
